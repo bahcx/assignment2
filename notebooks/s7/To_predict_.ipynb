{
 "cells": [
  {
   "cell_type": "code",
   "execution_count": 1,
   "metadata": {
    "id": "xwFyEsosINqT"
   },
   "outputs": [],
   "source": [
    "import numpy as np\n",
    "import pandas as pd"
   ]
  },
  {
   "cell_type": "code",
   "execution_count": 2,
   "metadata": {
    "id": "pKewSQysItJ-"
   },
   "outputs": [],
   "source": [
    "# https://www.statsmodels.org/stable/index.html\n",
    "import statsmodels.api as sm"
   ]
  },
  {
   "cell_type": "code",
   "execution_count": 3,
   "metadata": {},
   "outputs": [],
   "source": [
    "import warnings\n",
    "warnings.filterwarnings(\"ignore\")"
   ]
  },
  {
   "cell_type": "code",
   "execution_count": 4,
   "metadata": {},
   "outputs": [],
   "source": [
    "from functools import partial"
   ]
  },
  {
   "cell_type": "code",
   "execution_count": 5,
   "metadata": {},
   "outputs": [
    {
     "name": "stdout",
     "output_type": "stream",
     "text": [
      "envs Loaded\n",
      "Pinged your deployment. You successfully connected to MongoDB!\n"
     ]
    }
   ],
   "source": [
    "from dotenv import load_dotenv\n",
    "\n",
    "from pathlib import Path\n",
    "\n",
    "env_path = Path(\"../../.env-live\")\n",
    "\n",
    "if env_path.exists():\n",
    "    print('envs Loaded')\n",
    "    load_dotenv(dotenv_path=env_path)\n",
    "from jrjModelRegistry.jrjModelRegistry import registerAJrjModel"
   ]
  },
  {
   "cell_type": "code",
   "execution_count": 6,
   "metadata": {
    "id": "Lz-DyAtNWsJR"
   },
   "outputs": [],
   "source": [
    "# Download Dataset from https://www.dropbox.com/scl/fi/v7c1c8a3cnncuv1fo28es/Wages.xlsx?rlkey=vli12nwph687hvn9jskgf73a1&st=s862pfm6&dl=1\n",
    "# and add it to colab"
   ]
  },
  {
   "cell_type": "code",
   "execution_count": 7,
   "metadata": {
    "id": "0zM8FGMJXJ70"
   },
   "outputs": [],
   "source": [
    "wagesDf = pd.read_excel(\"./Wages.xlsx\")\n",
    "# wagesDf = pd.read_excel(\"https://www.dropbox.com/scl/fi/v7c1c8a3cnncuv1fo28es/Wages.xlsx?rlkey=vli12nwph687hvn9jskgf73a1&st=s862pfm6&dl=1\")"
   ]
  },
  {
   "cell_type": "code",
   "execution_count": 8,
   "metadata": {
    "colab": {
     "base_uri": "https://localhost:8080/",
     "height": 423
    },
    "id": "wsIgDGYcXT_z",
    "outputId": "1e9c9629-469e-4396-fc87-b889fad3be7c"
   },
   "outputs": [
    {
     "data": {
      "text/html": [
       "<div>\n",
       "<style scoped>\n",
       "    .dataframe tbody tr th:only-of-type {\n",
       "        vertical-align: middle;\n",
       "    }\n",
       "\n",
       "    .dataframe tbody tr th {\n",
       "        vertical-align: top;\n",
       "    }\n",
       "\n",
       "    .dataframe thead th {\n",
       "        text-align: right;\n",
       "    }\n",
       "</style>\n",
       "<table border=\"1\" class=\"dataframe\">\n",
       "  <thead>\n",
       "    <tr style=\"text-align: right;\">\n",
       "      <th></th>\n",
       "      <th>Wage</th>\n",
       "      <th>Educ</th>\n",
       "      <th>Age</th>\n",
       "    </tr>\n",
       "  </thead>\n",
       "  <tbody>\n",
       "    <tr>\n",
       "      <th>0</th>\n",
       "      <td>17.54</td>\n",
       "      <td>12</td>\n",
       "      <td>76</td>\n",
       "    </tr>\n",
       "    <tr>\n",
       "      <th>1</th>\n",
       "      <td>20.93</td>\n",
       "      <td>10</td>\n",
       "      <td>61</td>\n",
       "    </tr>\n",
       "    <tr>\n",
       "      <th>2</th>\n",
       "      <td>12.94</td>\n",
       "      <td>8</td>\n",
       "      <td>75</td>\n",
       "    </tr>\n",
       "    <tr>\n",
       "      <th>3</th>\n",
       "      <td>19.34</td>\n",
       "      <td>6</td>\n",
       "      <td>38</td>\n",
       "    </tr>\n",
       "    <tr>\n",
       "      <th>4</th>\n",
       "      <td>24.12</td>\n",
       "      <td>12</td>\n",
       "      <td>59</td>\n",
       "    </tr>\n",
       "    <tr>\n",
       "      <th>...</th>\n",
       "      <td>...</td>\n",
       "      <td>...</td>\n",
       "      <td>...</td>\n",
       "    </tr>\n",
       "    <tr>\n",
       "      <th>75</th>\n",
       "      <td>25.64</td>\n",
       "      <td>14</td>\n",
       "      <td>74</td>\n",
       "    </tr>\n",
       "    <tr>\n",
       "      <th>76</th>\n",
       "      <td>38.77</td>\n",
       "      <td>21</td>\n",
       "      <td>41</td>\n",
       "    </tr>\n",
       "    <tr>\n",
       "      <th>77</th>\n",
       "      <td>21.87</td>\n",
       "      <td>15</td>\n",
       "      <td>75</td>\n",
       "    </tr>\n",
       "    <tr>\n",
       "      <th>78</th>\n",
       "      <td>27.54</td>\n",
       "      <td>20</td>\n",
       "      <td>46</td>\n",
       "    </tr>\n",
       "    <tr>\n",
       "      <th>79</th>\n",
       "      <td>23.66</td>\n",
       "      <td>12</td>\n",
       "      <td>49</td>\n",
       "    </tr>\n",
       "  </tbody>\n",
       "</table>\n",
       "<p>80 rows × 3 columns</p>\n",
       "</div>"
      ],
      "text/plain": [
       "     Wage  Educ  Age\n",
       "0   17.54    12   76\n",
       "1   20.93    10   61\n",
       "2   12.94     8   75\n",
       "3   19.34     6   38\n",
       "4   24.12    12   59\n",
       "..    ...   ...  ...\n",
       "75  25.64    14   74\n",
       "76  38.77    21   41\n",
       "77  21.87    15   75\n",
       "78  27.54    20   46\n",
       "79  23.66    12   49\n",
       "\n",
       "[80 rows x 3 columns]"
      ]
     },
     "execution_count": 8,
     "metadata": {},
     "output_type": "execute_result"
    }
   ],
   "source": [
    "wagesDf"
   ]
  },
  {
   "cell_type": "code",
   "execution_count": 9,
   "metadata": {
    "colab": {
     "base_uri": "https://localhost:8080/"
    },
    "id": "nw2BHv7PmpVU",
    "outputId": "9ee3724b-4412-4df1-a1d2-8b993e770e51"
   },
   "outputs": [
    {
     "data": {
      "text/plain": [
       "240"
      ]
     },
     "execution_count": 9,
     "metadata": {},
     "output_type": "execute_result"
    }
   ],
   "source": [
    "wagesDf.size"
   ]
  },
  {
   "cell_type": "code",
   "execution_count": 10,
   "metadata": {
    "colab": {
     "base_uri": "https://localhost:8080/",
     "height": 300
    },
    "id": "mWaKOoGvmrE8",
    "outputId": "cccdab80-188e-4398-a0da-34bf5f3afff3"
   },
   "outputs": [
    {
     "data": {
      "text/html": [
       "<div>\n",
       "<style scoped>\n",
       "    .dataframe tbody tr th:only-of-type {\n",
       "        vertical-align: middle;\n",
       "    }\n",
       "\n",
       "    .dataframe tbody tr th {\n",
       "        vertical-align: top;\n",
       "    }\n",
       "\n",
       "    .dataframe thead th {\n",
       "        text-align: right;\n",
       "    }\n",
       "</style>\n",
       "<table border=\"1\" class=\"dataframe\">\n",
       "  <thead>\n",
       "    <tr style=\"text-align: right;\">\n",
       "      <th></th>\n",
       "      <th>Wage</th>\n",
       "      <th>Educ</th>\n",
       "      <th>Age</th>\n",
       "    </tr>\n",
       "  </thead>\n",
       "  <tbody>\n",
       "    <tr>\n",
       "      <th>count</th>\n",
       "      <td>80.000000</td>\n",
       "      <td>80.000000</td>\n",
       "      <td>80.000000</td>\n",
       "    </tr>\n",
       "    <tr>\n",
       "      <th>mean</th>\n",
       "      <td>24.930500</td>\n",
       "      <td>13.850000</td>\n",
       "      <td>49.487500</td>\n",
       "    </tr>\n",
       "    <tr>\n",
       "      <th>std</th>\n",
       "      <td>7.479982</td>\n",
       "      <td>4.016107</td>\n",
       "      <td>17.213473</td>\n",
       "    </tr>\n",
       "    <tr>\n",
       "      <th>min</th>\n",
       "      <td>6.930000</td>\n",
       "      <td>6.000000</td>\n",
       "      <td>18.000000</td>\n",
       "    </tr>\n",
       "    <tr>\n",
       "      <th>25%</th>\n",
       "      <td>19.145000</td>\n",
       "      <td>10.000000</td>\n",
       "      <td>34.750000</td>\n",
       "    </tr>\n",
       "    <tr>\n",
       "      <th>50%</th>\n",
       "      <td>24.980000</td>\n",
       "      <td>14.000000</td>\n",
       "      <td>51.000000</td>\n",
       "    </tr>\n",
       "    <tr>\n",
       "      <th>75%</th>\n",
       "      <td>30.572500</td>\n",
       "      <td>17.000000</td>\n",
       "      <td>65.250000</td>\n",
       "    </tr>\n",
       "    <tr>\n",
       "      <th>max</th>\n",
       "      <td>43.440000</td>\n",
       "      <td>22.000000</td>\n",
       "      <td>77.000000</td>\n",
       "    </tr>\n",
       "  </tbody>\n",
       "</table>\n",
       "</div>"
      ],
      "text/plain": [
       "            Wage       Educ        Age\n",
       "count  80.000000  80.000000  80.000000\n",
       "mean   24.930500  13.850000  49.487500\n",
       "std     7.479982   4.016107  17.213473\n",
       "min     6.930000   6.000000  18.000000\n",
       "25%    19.145000  10.000000  34.750000\n",
       "50%    24.980000  14.000000  51.000000\n",
       "75%    30.572500  17.000000  65.250000\n",
       "max    43.440000  22.000000  77.000000"
      ]
     },
     "execution_count": 10,
     "metadata": {},
     "output_type": "execute_result"
    }
   ],
   "source": [
    "wagesDf.describe()"
   ]
  },
  {
   "cell_type": "code",
   "execution_count": 11,
   "metadata": {
    "id": "w-fAHOgMmyH5"
   },
   "outputs": [
    {
     "data": {
      "text/plain": [
       "(80, 3)"
      ]
     },
     "execution_count": 11,
     "metadata": {},
     "output_type": "execute_result"
    }
   ],
   "source": [
    "wagesDf.shape"
   ]
  },
  {
   "cell_type": "code",
   "execution_count": 12,
   "metadata": {
    "id": "H15Y1sg61e5Z"
   },
   "outputs": [],
   "source": [
    "import matplotlib.pyplot as plt"
   ]
  },
  {
   "cell_type": "code",
   "execution_count": 13,
   "metadata": {
    "colab": {
     "base_uri": "https://localhost:8080/",
     "height": 34
    },
    "id": "-4_3Xd1i1cPa",
    "outputId": "53e38405-41a6-413e-c038-da8ea474a2b6"
   },
   "outputs": [
    {
     "data": {
      "text/plain": [
       "<Figure size 800x800 with 0 Axes>"
      ]
     },
     "metadata": {},
     "output_type": "display_data"
    }
   ],
   "source": [
    "# Plotting\n",
    "fig1 = plt.figure(\n",
    "  figsize=(8, 8)\n",
    ")"
   ]
  },
  {
   "cell_type": "code",
   "execution_count": 14,
   "metadata": {},
   "outputs": [],
   "source": [
    "def wageModel3Transformer(dataForTransfer = None):\n",
    "    import pandas as pd\n",
    "    import statsmodels.api as sm\n",
    "    if isinstance(dataForTransfer, pd.DataFrame):\n",
    "        df = dataForTransfer.copy()\n",
    "    else:\n",
    "        df = pd.DataFrame(dataForTransfer)\n",
    "    df['agePower2'] = df.apply(lambda row: row['Age'] * row['Age'], axis=1)\n",
    "    dfTransformer = sm.add_constant(df[['Age', 'agePower2']],has_constant='add')\n",
    "    return dfTransformer"
   ]
  },
  {
   "cell_type": "code",
   "execution_count": 15,
   "metadata": {
    "colab": {
     "base_uri": "https://localhost:8080/",
     "height": 423
    },
    "id": "v4CvzLau4TZ6",
    "outputId": "c0337cca-915f-4593-93f2-408f972075a3"
   },
   "outputs": [
    {
     "data": {
      "text/html": [
       "<div>\n",
       "<style scoped>\n",
       "    .dataframe tbody tr th:only-of-type {\n",
       "        vertical-align: middle;\n",
       "    }\n",
       "\n",
       "    .dataframe tbody tr th {\n",
       "        vertical-align: top;\n",
       "    }\n",
       "\n",
       "    .dataframe thead th {\n",
       "        text-align: right;\n",
       "    }\n",
       "</style>\n",
       "<table border=\"1\" class=\"dataframe\">\n",
       "  <thead>\n",
       "    <tr style=\"text-align: right;\">\n",
       "      <th></th>\n",
       "      <th>Wage</th>\n",
       "      <th>Educ</th>\n",
       "      <th>Age</th>\n",
       "      <th>agePower2</th>\n",
       "    </tr>\n",
       "  </thead>\n",
       "  <tbody>\n",
       "    <tr>\n",
       "      <th>0</th>\n",
       "      <td>17.54</td>\n",
       "      <td>12</td>\n",
       "      <td>76</td>\n",
       "      <td>5776.0</td>\n",
       "    </tr>\n",
       "    <tr>\n",
       "      <th>1</th>\n",
       "      <td>20.93</td>\n",
       "      <td>10</td>\n",
       "      <td>61</td>\n",
       "      <td>3721.0</td>\n",
       "    </tr>\n",
       "    <tr>\n",
       "      <th>2</th>\n",
       "      <td>12.94</td>\n",
       "      <td>8</td>\n",
       "      <td>75</td>\n",
       "      <td>5625.0</td>\n",
       "    </tr>\n",
       "    <tr>\n",
       "      <th>3</th>\n",
       "      <td>19.34</td>\n",
       "      <td>6</td>\n",
       "      <td>38</td>\n",
       "      <td>1444.0</td>\n",
       "    </tr>\n",
       "    <tr>\n",
       "      <th>4</th>\n",
       "      <td>24.12</td>\n",
       "      <td>12</td>\n",
       "      <td>59</td>\n",
       "      <td>3481.0</td>\n",
       "    </tr>\n",
       "    <tr>\n",
       "      <th>...</th>\n",
       "      <td>...</td>\n",
       "      <td>...</td>\n",
       "      <td>...</td>\n",
       "      <td>...</td>\n",
       "    </tr>\n",
       "    <tr>\n",
       "      <th>75</th>\n",
       "      <td>25.64</td>\n",
       "      <td>14</td>\n",
       "      <td>74</td>\n",
       "      <td>5476.0</td>\n",
       "    </tr>\n",
       "    <tr>\n",
       "      <th>76</th>\n",
       "      <td>38.77</td>\n",
       "      <td>21</td>\n",
       "      <td>41</td>\n",
       "      <td>1681.0</td>\n",
       "    </tr>\n",
       "    <tr>\n",
       "      <th>77</th>\n",
       "      <td>21.87</td>\n",
       "      <td>15</td>\n",
       "      <td>75</td>\n",
       "      <td>5625.0</td>\n",
       "    </tr>\n",
       "    <tr>\n",
       "      <th>78</th>\n",
       "      <td>27.54</td>\n",
       "      <td>20</td>\n",
       "      <td>46</td>\n",
       "      <td>2116.0</td>\n",
       "    </tr>\n",
       "    <tr>\n",
       "      <th>79</th>\n",
       "      <td>23.66</td>\n",
       "      <td>12</td>\n",
       "      <td>49</td>\n",
       "      <td>2401.0</td>\n",
       "    </tr>\n",
       "  </tbody>\n",
       "</table>\n",
       "<p>80 rows × 4 columns</p>\n",
       "</div>"
      ],
      "text/plain": [
       "     Wage  Educ  Age  agePower2\n",
       "0   17.54    12   76     5776.0\n",
       "1   20.93    10   61     3721.0\n",
       "2   12.94     8   75     5625.0\n",
       "3   19.34     6   38     1444.0\n",
       "4   24.12    12   59     3481.0\n",
       "..    ...   ...  ...        ...\n",
       "75  25.64    14   74     5476.0\n",
       "76  38.77    21   41     1681.0\n",
       "77  21.87    15   75     5625.0\n",
       "78  27.54    20   46     2116.0\n",
       "79  23.66    12   49     2401.0\n",
       "\n",
       "[80 rows x 4 columns]"
      ]
     },
     "execution_count": 15,
     "metadata": {},
     "output_type": "execute_result"
    }
   ],
   "source": [
    "wagesDf['agePower2'] = wageModel3Transformer(wagesDf)['agePower2']\n",
    "wagesDf"
   ]
  },
  {
   "cell_type": "code",
   "execution_count": 16,
   "metadata": {
    "id": "d7cn8Io05ebq"
   },
   "outputs": [],
   "source": [
    "wagesDf = wagesDf.sort_values(by=\"Age\")"
   ]
  },
  {
   "cell_type": "code",
   "execution_count": 17,
   "metadata": {
    "colab": {
     "base_uri": "https://localhost:8080/"
    },
    "id": "Vr9zmJ7L4lEg",
    "outputId": "53ecd500-d0c3-4c20-c008-ad0969e20890"
   },
   "outputs": [
    {
     "name": "stdout",
     "output_type": "stream",
     "text": [
      "                            OLS Regression Results                            \n",
      "==============================================================================\n",
      "Dep. Variable:                   Wage   R-squared:                       0.400\n",
      "Model:                            OLS   Adj. R-squared:                  0.385\n",
      "Method:                 Least Squares   F-statistic:                     25.72\n",
      "Date:                Wed, 25 Jun 2025   Prob (F-statistic):           2.79e-09\n",
      "Time:                        20:41:00   Log-Likelihood:                -253.53\n",
      "No. Observations:                  80   AIC:                             513.1\n",
      "Df Residuals:                      77   BIC:                             520.2\n",
      "Df Model:                           2                                         \n",
      "Covariance Type:            nonrobust                                         \n",
      "==============================================================================\n",
      "                 coef    std err          t      P>|t|      [0.025      0.975]\n",
      "------------------------------------------------------------------------------\n",
      "const        -14.4664      5.569     -2.598      0.011     -25.556      -3.376\n",
      "Age            1.7567      0.246      7.150      0.000       1.267       2.246\n",
      "agePower2     -0.0173      0.002     -6.976      0.000      -0.022      -0.012\n",
      "==============================================================================\n",
      "Omnibus:                        2.225   Durbin-Watson:                   2.070\n",
      "Prob(Omnibus):                  0.329   Jarque-Bera (JB):                2.224\n",
      "Skew:                           0.370   Prob(JB):                        0.329\n",
      "Kurtosis:                       2.652   Cond. No.                     2.74e+04\n",
      "==============================================================================\n",
      "\n",
      "Notes:\n",
      "[1] Standard Errors assume that the covariance matrix of the errors is correctly specified.\n",
      "[2] The condition number is large, 2.74e+04. This might indicate that there are\n",
      "strong multicollinearity or other numerical problems.\n"
     ]
    }
   ],
   "source": [
    "wageModel3 = sm.OLS(\n",
    "  wagesDf[\"Wage\"],\n",
    "  wageModel3Transformer(wagesDf)\n",
    ")\n",
    "wageModel3Fit = wageModel3.fit()\n",
    "print(wageModel3Fit.summary())"
   ]
  },
  {
   "cell_type": "code",
   "execution_count": null,
   "metadata": {},
   "outputs": [],
   "source": []
  },
  {
   "cell_type": "code",
   "execution_count": 18,
   "metadata": {
    "colab": {
     "base_uri": "https://localhost:8080/"
    },
    "id": "hglfZzBecywO",
    "outputId": "5320cfd7-62d5-476f-dbfa-63710bc6d3a1"
   },
   "outputs": [
    {
     "data": {
      "text/plain": [
       "const       -14.466357\n",
       "Age           1.756677\n",
       "agePower2    -0.017339\n",
       "dtype: float64"
      ]
     },
     "execution_count": 18,
     "metadata": {},
     "output_type": "execute_result"
    }
   ],
   "source": [
    "wageModel3Fit.params"
   ]
  },
  {
   "cell_type": "code",
   "execution_count": 19,
   "metadata": {
    "colab": {
     "base_uri": "https://localhost:8080/",
     "height": 423
    },
    "id": "qefCiN4F4yHq",
    "outputId": "17f562cd-50a4-4126-df27-a1756c548fe3"
   },
   "outputs": [
    {
     "data": {
      "text/html": [
       "<div>\n",
       "<style scoped>\n",
       "    .dataframe tbody tr th:only-of-type {\n",
       "        vertical-align: middle;\n",
       "    }\n",
       "\n",
       "    .dataframe tbody tr th {\n",
       "        vertical-align: top;\n",
       "    }\n",
       "\n",
       "    .dataframe thead th {\n",
       "        text-align: right;\n",
       "    }\n",
       "</style>\n",
       "<table border=\"1\" class=\"dataframe\">\n",
       "  <thead>\n",
       "    <tr style=\"text-align: right;\">\n",
       "      <th></th>\n",
       "      <th>Wage</th>\n",
       "      <th>Educ</th>\n",
       "      <th>Age</th>\n",
       "      <th>agePower2</th>\n",
       "      <th>predictedWage3</th>\n",
       "    </tr>\n",
       "  </thead>\n",
       "  <tbody>\n",
       "    <tr>\n",
       "      <th>69</th>\n",
       "      <td>25.13</td>\n",
       "      <td>16</td>\n",
       "      <td>18</td>\n",
       "      <td>324.0</td>\n",
       "      <td>11.536003</td>\n",
       "    </tr>\n",
       "    <tr>\n",
       "      <th>27</th>\n",
       "      <td>12.39</td>\n",
       "      <td>13</td>\n",
       "      <td>19</td>\n",
       "      <td>361.0</td>\n",
       "      <td>12.651138</td>\n",
       "    </tr>\n",
       "    <tr>\n",
       "      <th>62</th>\n",
       "      <td>6.93</td>\n",
       "      <td>6</td>\n",
       "      <td>21</td>\n",
       "      <td>441.0</td>\n",
       "      <td>14.777375</td>\n",
       "    </tr>\n",
       "    <tr>\n",
       "      <th>60</th>\n",
       "      <td>18.11</td>\n",
       "      <td>14</td>\n",
       "      <td>21</td>\n",
       "      <td>441.0</td>\n",
       "      <td>14.777375</td>\n",
       "    </tr>\n",
       "    <tr>\n",
       "      <th>28</th>\n",
       "      <td>16.37</td>\n",
       "      <td>12</td>\n",
       "      <td>22</td>\n",
       "      <td>484.0</td>\n",
       "      <td>15.788477</td>\n",
       "    </tr>\n",
       "    <tr>\n",
       "      <th>...</th>\n",
       "      <td>...</td>\n",
       "      <td>...</td>\n",
       "      <td>...</td>\n",
       "      <td>...</td>\n",
       "      <td>...</td>\n",
       "    </tr>\n",
       "    <tr>\n",
       "      <th>48</th>\n",
       "      <td>28.95</td>\n",
       "      <td>20</td>\n",
       "      <td>75</td>\n",
       "      <td>5625.0</td>\n",
       "      <td>19.752807</td>\n",
       "    </tr>\n",
       "    <tr>\n",
       "      <th>77</th>\n",
       "      <td>21.87</td>\n",
       "      <td>15</td>\n",
       "      <td>75</td>\n",
       "      <td>5625.0</td>\n",
       "      <td>19.752807</td>\n",
       "    </tr>\n",
       "    <tr>\n",
       "      <th>67</th>\n",
       "      <td>15.38</td>\n",
       "      <td>12</td>\n",
       "      <td>76</td>\n",
       "      <td>5776.0</td>\n",
       "      <td>18.891302</td>\n",
       "    </tr>\n",
       "    <tr>\n",
       "      <th>0</th>\n",
       "      <td>17.54</td>\n",
       "      <td>12</td>\n",
       "      <td>76</td>\n",
       "      <td>5776.0</td>\n",
       "      <td>18.891302</td>\n",
       "    </tr>\n",
       "    <tr>\n",
       "      <th>50</th>\n",
       "      <td>10.31</td>\n",
       "      <td>9</td>\n",
       "      <td>77</td>\n",
       "      <td>5929.0</td>\n",
       "      <td>17.995120</td>\n",
       "    </tr>\n",
       "  </tbody>\n",
       "</table>\n",
       "<p>80 rows × 5 columns</p>\n",
       "</div>"
      ],
      "text/plain": [
       "     Wage  Educ  Age  agePower2  predictedWage3\n",
       "69  25.13    16   18      324.0       11.536003\n",
       "27  12.39    13   19      361.0       12.651138\n",
       "62   6.93     6   21      441.0       14.777375\n",
       "60  18.11    14   21      441.0       14.777375\n",
       "28  16.37    12   22      484.0       15.788477\n",
       "..    ...   ...  ...        ...             ...\n",
       "48  28.95    20   75     5625.0       19.752807\n",
       "77  21.87    15   75     5625.0       19.752807\n",
       "67  15.38    12   76     5776.0       18.891302\n",
       "0   17.54    12   76     5776.0       18.891302\n",
       "50  10.31     9   77     5929.0       17.995120\n",
       "\n",
       "[80 rows x 5 columns]"
      ]
     },
     "execution_count": 19,
     "metadata": {},
     "output_type": "execute_result"
    }
   ],
   "source": [
    "predictedWage3 = wageModel3Fit.predict(wageModel3Transformer(wagesDf))\n",
    "wagesDf['predictedWage3'] = predictedWage3\n",
    "wagesDf"
   ]
  },
  {
   "cell_type": "code",
   "execution_count": 20,
   "metadata": {
    "colab": {
     "base_uri": "https://localhost:8080/",
     "height": 718
    },
    "id": "MgtSumSS4v-w",
    "outputId": "647d4e43-4958-4336-ced1-415690966e01"
   },
   "outputs": [
    {
     "data": {
      "image/png": "[encoded data removed]",
      "text/plain": [
       "<Figure size 800x800 with 1 Axes>"
      ]
     },
     "metadata": {},
     "output_type": "display_data"
    }
   ],
   "source": [
    "# Plotting\n",
    "plt.figure(\n",
    "  figsize=(8, 8)\n",
    ")\n",
    "\n",
    "plt.scatter(\n",
    "  wagesDf[\"Age\"],\n",
    "  wagesDf[\"Wage\"],\n",
    "  color='blue',\n",
    "  alpha=0.9,\n",
    "  label='Data Points - scatter',\n",
    ")\n",
    "\n",
    "plt.plot(\n",
    "  wagesDf[\"Age\"],\n",
    "  wagesDf[\"predictedWage3\"],\n",
    "  color='green',\n",
    "  label='OLS Regression - predictedWage3'\n",
    ")\n",
    "plt.title('Age. Wage with OLS Regression')\n",
    "plt.xlabel('Age')\n",
    "plt.ylabel('Wage K')\n",
    "plt.legend()\n",
    "plt.grid(True)\n",
    "\n",
    "\n",
    "\n",
    "plt.show()"
   ]
  },
  {
   "cell_type": "code",
   "execution_count": 21,
   "metadata": {
    "colab": {
     "base_uri": "https://localhost:8080/",
     "height": 423
    },
    "id": "IdnsnYWW8vW6",
    "outputId": "7688f8f0-35f6-4ee1-a1fb-97cfc9f35c1d"
   },
   "outputs": [
    {
     "data": {
      "text/html": [
       "<div>\n",
       "<style scoped>\n",
       "    .dataframe tbody tr th:only-of-type {\n",
       "        vertical-align: middle;\n",
       "    }\n",
       "\n",
       "    .dataframe tbody tr th {\n",
       "        vertical-align: top;\n",
       "    }\n",
       "\n",
       "    .dataframe thead th {\n",
       "        text-align: right;\n",
       "    }\n",
       "</style>\n",
       "<table border=\"1\" class=\"dataframe\">\n",
       "  <thead>\n",
       "    <tr style=\"text-align: right;\">\n",
       "      <th></th>\n",
       "      <th>Wage</th>\n",
       "      <th>Educ</th>\n",
       "      <th>Age</th>\n",
       "      <th>agePower2</th>\n",
       "      <th>predictedWage3</th>\n",
       "    </tr>\n",
       "  </thead>\n",
       "  <tbody>\n",
       "    <tr>\n",
       "      <th>69</th>\n",
       "      <td>25.13</td>\n",
       "      <td>16</td>\n",
       "      <td>18</td>\n",
       "      <td>324.0</td>\n",
       "      <td>11.536003</td>\n",
       "    </tr>\n",
       "    <tr>\n",
       "      <th>27</th>\n",
       "      <td>12.39</td>\n",
       "      <td>13</td>\n",
       "      <td>19</td>\n",
       "      <td>361.0</td>\n",
       "      <td>12.651138</td>\n",
       "    </tr>\n",
       "    <tr>\n",
       "      <th>62</th>\n",
       "      <td>6.93</td>\n",
       "      <td>6</td>\n",
       "      <td>21</td>\n",
       "      <td>441.0</td>\n",
       "      <td>14.777375</td>\n",
       "    </tr>\n",
       "    <tr>\n",
       "      <th>60</th>\n",
       "      <td>18.11</td>\n",
       "      <td>14</td>\n",
       "      <td>21</td>\n",
       "      <td>441.0</td>\n",
       "      <td>14.777375</td>\n",
       "    </tr>\n",
       "    <tr>\n",
       "      <th>28</th>\n",
       "      <td>16.37</td>\n",
       "      <td>12</td>\n",
       "      <td>22</td>\n",
       "      <td>484.0</td>\n",
       "      <td>15.788477</td>\n",
       "    </tr>\n",
       "    <tr>\n",
       "      <th>...</th>\n",
       "      <td>...</td>\n",
       "      <td>...</td>\n",
       "      <td>...</td>\n",
       "      <td>...</td>\n",
       "      <td>...</td>\n",
       "    </tr>\n",
       "    <tr>\n",
       "      <th>48</th>\n",
       "      <td>28.95</td>\n",
       "      <td>20</td>\n",
       "      <td>75</td>\n",
       "      <td>5625.0</td>\n",
       "      <td>19.752807</td>\n",
       "    </tr>\n",
       "    <tr>\n",
       "      <th>77</th>\n",
       "      <td>21.87</td>\n",
       "      <td>15</td>\n",
       "      <td>75</td>\n",
       "      <td>5625.0</td>\n",
       "      <td>19.752807</td>\n",
       "    </tr>\n",
       "    <tr>\n",
       "      <th>67</th>\n",
       "      <td>15.38</td>\n",
       "      <td>12</td>\n",
       "      <td>76</td>\n",
       "      <td>5776.0</td>\n",
       "      <td>18.891302</td>\n",
       "    </tr>\n",
       "    <tr>\n",
       "      <th>0</th>\n",
       "      <td>17.54</td>\n",
       "      <td>12</td>\n",
       "      <td>76</td>\n",
       "      <td>5776.0</td>\n",
       "      <td>18.891302</td>\n",
       "    </tr>\n",
       "    <tr>\n",
       "      <th>50</th>\n",
       "      <td>10.31</td>\n",
       "      <td>9</td>\n",
       "      <td>77</td>\n",
       "      <td>5929.0</td>\n",
       "      <td>17.995120</td>\n",
       "    </tr>\n",
       "  </tbody>\n",
       "</table>\n",
       "<p>80 rows × 5 columns</p>\n",
       "</div>"
      ],
      "text/plain": [
       "     Wage  Educ  Age  agePower2  predictedWage3\n",
       "69  25.13    16   18      324.0       11.536003\n",
       "27  12.39    13   19      361.0       12.651138\n",
       "62   6.93     6   21      441.0       14.777375\n",
       "60  18.11    14   21      441.0       14.777375\n",
       "28  16.37    12   22      484.0       15.788477\n",
       "..    ...   ...  ...        ...             ...\n",
       "48  28.95    20   75     5625.0       19.752807\n",
       "77  21.87    15   75     5625.0       19.752807\n",
       "67  15.38    12   76     5776.0       18.891302\n",
       "0   17.54    12   76     5776.0       18.891302\n",
       "50  10.31     9   77     5929.0       17.995120\n",
       "\n",
       "[80 rows x 5 columns]"
      ]
     },
     "execution_count": 21,
     "metadata": {},
     "output_type": "execute_result"
    }
   ],
   "source": [
    "wagesDf"
   ]
  },
  {
   "cell_type": "code",
   "execution_count": 22,
   "metadata": {
    "id": "dshYJox1csXb"
   },
   "outputs": [],
   "source": [
    "# Extract coefficients\n",
    "coefficients = wageModel3Fit.params\n",
    "intercept = coefficients['const']\n",
    "slope_age = coefficients['Age']\n",
    "slope_age2 = coefficients['agePower2']"
   ]
  },
  {
   "cell_type": "code",
   "execution_count": 23,
   "metadata": {
    "colab": {
     "base_uri": "https://localhost:8080/",
     "height": 581
    },
    "id": "CDDHr3BxZKBi",
    "outputId": "38e4cc5a-3944-4f74-9a1f-ab9f28a688af"
   },
   "outputs": [
    {
     "data": {
      "image/png": "[encoded data removed]",
      "text/plain": [
       "<Figure size 1000x600 with 1 Axes>"
      ]
     },
     "metadata": {},
     "output_type": "display_data"
    },
    {
     "name": "stdout",
     "output_type": "stream",
     "text": [
      "The roots of the quadratic equation are: [np.float64(9.042055881204726), np.float64(92.27185466166782)]\n"
     ]
    }
   ],
   "source": [
    "\n",
    "\n",
    "# Solve the quadratic equation\n",
    "a = slope_age2\n",
    "b = slope_age\n",
    "c = intercept\n",
    "\n",
    "# Calculate the discriminant\n",
    "discriminant = b**2 - 4*a*c\n",
    "\n",
    "if discriminant >= 0:\n",
    "    root1 = (-b + np.sqrt(discriminant)) / (2*a)\n",
    "    root2 = (-b - np.sqrt(discriminant)) / (2*a)\n",
    "    roots = [root1, root2]\n",
    "else:\n",
    "    roots = []\n",
    "\n",
    "# Plotting the quadratic curve and the roots\n",
    "age_values = np.linspace(-5, 100, 400)\n",
    "wage_predictions = intercept + slope_age * age_values + slope_age2 * (age_values**2)\n",
    "\n",
    "plt.figure(figsize=(10, 6))\n",
    "plt.plot(age_values, wage_predictions, label='Quadratic Fit', color='blue')\n",
    "plt.axhline(0, color='black', linewidth=0.5, linestyle='--')\n",
    "\n",
    "if roots:\n",
    "    for root in roots:\n",
    "        plt.plot(root, 0, 'ro')  # Plot the roots on the curve\n",
    "        plt.annotate(f'Root: {root:.2f}', (root, 0), textcoords=\"offset points\", xytext=(0,10), ha='center')\n",
    "\n",
    "plt.xlabel('Age')\n",
    "plt.ylabel('Predicted Wage')\n",
    "plt.title('Quadratic Fit of Wage vs Age with Roots')\n",
    "plt.legend()\n",
    "plt.grid(True)\n",
    "plt.show()\n",
    "\n",
    "print(f\"The roots of the quadratic equation are: {roots}\")\n"
   ]
  },
  {
   "cell_type": "code",
   "execution_count": 24,
   "metadata": {
    "colab": {
     "base_uri": "https://localhost:8080/",
     "height": 581
    },
    "id": "0JTcLXGqez8F",
    "outputId": "214281e8-99de-420f-89d7-3fe6cf3d22dc"
   },
   "outputs": [
    {
     "data": {
      "image/png": "[encoded data removed]",
      "text/plain": [
       "<Figure size 1000x600 with 1 Axes>"
      ]
     },
     "metadata": {},
     "output_type": "display_data"
    },
    {
     "name": "stdout",
     "output_type": "stream",
     "text": [
      "The roots of the quadratic equation are: [np.float64(9.042055881204726), np.float64(92.27185466166782)]\n"
     ]
    }
   ],
   "source": [
    "\n",
    "\n",
    "# Solve the quadratic equation\n",
    "a = slope_age2\n",
    "b = slope_age\n",
    "c = intercept\n",
    "\n",
    "# Calculate the discriminant\n",
    "discriminant = b**2 - 4*a*c\n",
    "\n",
    "if discriminant >= 0:\n",
    "    root1 = (-b + np.sqrt(discriminant)) / (2*a)\n",
    "    root2 = (-b - np.sqrt(discriminant)) / (2*a)\n",
    "    roots = [root1, root2]\n",
    "else:\n",
    "    roots = []\n",
    "\n",
    "# Plotting the quadratic curve and the roots\n",
    "age_values = np.linspace(-5, 100, 400)\n",
    "wage_predictions = intercept + slope_age * age_values + slope_age2 * (age_values**2)\n",
    "\n",
    "plt.figure(figsize=(10, 6))\n",
    "plt.plot(age_values, wage_predictions, label='Quadratic Fit', color='blue')\n",
    "plt.axhline(0, color='black', linewidth=0.5, linestyle='--')\n",
    "\n",
    "if roots:\n",
    "    for root in roots:\n",
    "        plt.plot(root, 0, 'ro')  # Plot the roots on the curve\n",
    "        plt.annotate(f'Root: {root:.2f}', (root, 0), textcoords=\"offset points\", xytext=(0,10), ha='center')\n",
    "\n",
    "plt.xlabel('Age')\n",
    "plt.ylabel('Predicted Wage')\n",
    "plt.title('Quadratic Fit of Wage vs Age with Roots')\n",
    "plt.legend()\n",
    "\n",
    "# Find the vertex (maximum point for a downward parabola)\n",
    "vertex_age = -b / (2 * a)\n",
    "vertex_wage = intercept + slope_age * vertex_age + slope_age2 * (vertex_age**2)\n",
    "# Plot the maximum point (vertex)\n",
    "plt.plot(vertex_age, vertex_wage, 'go')  # Green dot for the maximum point\n",
    "plt.annotate(f'Max: ({vertex_age:.2f}, {vertex_wage:.2f})', (vertex_age, vertex_wage), textcoords=\"offset points\", xytext=(0,10), ha='center')\n",
    "\n",
    "\n",
    "\n",
    "plt.grid(True)\n",
    "plt.show()\n",
    "\n",
    "print(f\"The roots of the quadratic equation are: {roots}\")"
   ]
  },
  {
   "cell_type": "code",
   "execution_count": 25,
   "metadata": {
    "colab": {
     "base_uri": "https://localhost:8080/"
    },
    "id": "jkgIsseinsgt",
    "outputId": "4079e22f-e408-47db-97fc-31162de9a0b3"
   },
   "outputs": [
    {
     "name": "stdout",
     "output_type": "stream",
     "text": [
      "SST: 4420.060579999999\n",
      "SSR: 2649.943406820784\n",
      "R^2: 0.40047350961402794\n",
      "R^2_2: 0.4004735096140195\n"
     ]
    }
   ],
   "source": [
    "# SST and SSR \n",
    "# more information https://365datascience.com/tutorials/statistics-tutorials/sum-squares/\n",
    "\n",
    "# Extract observed and predicted values\n",
    "observedValues = wagesDf[\"Wage\"]\n",
    "predictedValues = wageModel3Fit.predict(wageModel3Transformer(wagesDf))\n",
    "\n",
    "# Calculate the mean of observed values\n",
    "mean_observed = np.mean(observedValues)\n",
    "\n",
    "# Calculate SST\n",
    "sst = np.sum((observedValues - mean_observed) ** 2)\n",
    "\n",
    "# Calculate SSR\n",
    "ssr = np.sum((observedValues - predictedValues) ** 2)\n",
    "\n",
    "errors = np.sum(( predictedValues - mean_observed) ** 2)\n",
    "\n",
    "# Calculate R^2\n",
    "r_squared = 1 - (ssr / sst)\n",
    "r_squared2 = errors / sst\n",
    "\n",
    "print(f\"SST: {sst}\")\n",
    "print(f\"SSR: {ssr}\")\n",
    "print(f\"R^2: {r_squared}\")\n",
    "print(f\"R^2_2: {r_squared2}\")"
   ]
  },
  {
   "cell_type": "code",
   "execution_count": 26,
   "metadata": {
    "colab": {
     "base_uri": "https://localhost:8080/"
    },
    "id": "m7wewN-AwQYh",
    "outputId": "60dcfa40-7dd4-42d3-d8fa-437a02ca83b7"
   },
   "outputs": [
    {
     "data": {
      "text/plain": [
       "(80, 5)"
      ]
     },
     "execution_count": 26,
     "metadata": {},
     "output_type": "execute_result"
    }
   ],
   "source": [
    "wagesDf.shape"
   ]
  },
  {
   "cell_type": "code",
   "execution_count": 27,
   "metadata": {
    "colab": {
     "base_uri": "https://localhost:8080/"
    },
    "id": "TJz1hDHvZLJ8",
    "outputId": "8bfddf95-43ba-492f-ecd8-1540a4653544"
   },
   "outputs": [
    {
     "data": {
      "text/plain": [
       "(     Wage  Educ  Age  agePower2  predictedWage3\n",
       " 47  13.39    10   27      729.0       20.323818\n",
       " 36  40.61    18   59     3481.0       28.820685\n",
       " 5   18.36     8   51     2601.0       30.025546\n",
       " 65  27.90    15   46     2116.0       29.651553\n",
       " 11  34.95    22   55     3025.0       29.700539,\n",
       " (68, 5))"
      ]
     },
     "execution_count": 27,
     "metadata": {},
     "output_type": "execute_result"
    }
   ],
   "source": [
    "from sklearn.model_selection import train_test_split\n",
    "# Split the data into train and test sets\n",
    "trainSet, testSet = train_test_split(wagesDf, test_size=0.15, random_state=800)\n",
    "# trainSet, testSet = train_test_split(wagesDf, test_size=0.15)\n",
    "\n",
    "trainSet.head(), trainSet.shape"
   ]
  },
  {
   "cell_type": "code",
   "execution_count": 28,
   "metadata": {
    "colab": {
     "base_uri": "https://localhost:8080/"
    },
    "id": "nrMuBOJqZeAz",
    "outputId": "d73d7fff-ec53-4cdb-97f1-10556dfffa03"
   },
   "outputs": [
    {
     "data": {
      "text/plain": [
       "((80, 5), (68, 5), (12, 5))"
      ]
     },
     "execution_count": 28,
     "metadata": {},
     "output_type": "execute_result"
    }
   ],
   "source": [
    "wagesDf.shape, trainSet.shape, testSet.shape"
   ]
  },
  {
   "cell_type": "code",
   "execution_count": 29,
   "metadata": {
    "colab": {
     "base_uri": "https://localhost:8080/"
    },
    "id": "age5UP_tZvAJ",
    "outputId": "9d8f6b97-c56e-42df-ef85-a0f5cfc2e7d2"
   },
   "outputs": [
    {
     "name": "stdout",
     "output_type": "stream",
     "text": [
      "                            OLS Regression Results                            \n",
      "==============================================================================\n",
      "Dep. Variable:                   Wage   R-squared:                       0.427\n",
      "Model:                            OLS   Adj. R-squared:                  0.409\n",
      "Method:                 Least Squares   F-statistic:                     24.18\n",
      "Date:                Wed, 25 Jun 2025   Prob (F-statistic):           1.41e-08\n",
      "Time:                        20:41:00   Log-Likelihood:                -216.27\n",
      "No. Observations:                  68   AIC:                             438.5\n",
      "Df Residuals:                      65   BIC:                             445.2\n",
      "Df Model:                           2                                         \n",
      "Covariance Type:            nonrobust                                         \n",
      "==============================================================================\n",
      "                 coef    std err          t      P>|t|      [0.025      0.975]\n",
      "------------------------------------------------------------------------------\n",
      "const        -15.8100      6.037     -2.619      0.011     -27.867      -3.753\n",
      "Age            1.8364      0.264      6.954      0.000       1.309       2.364\n",
      "agePower2     -0.0183      0.003     -6.860      0.000      -0.024      -0.013\n",
      "==============================================================================\n",
      "Omnibus:                        2.024   Durbin-Watson:                   2.157\n",
      "Prob(Omnibus):                  0.363   Jarque-Bera (JB):                1.979\n",
      "Skew:                           0.394   Prob(JB):                        0.372\n",
      "Kurtosis:                       2.724   Cond. No.                     2.73e+04\n",
      "==============================================================================\n",
      "\n",
      "Notes:\n",
      "[1] Standard Errors assume that the covariance matrix of the errors is correctly specified.\n",
      "[2] The condition number is large, 2.73e+04. This might indicate that there are\n",
      "strong multicollinearity or other numerical problems.\n"
     ]
    }
   ],
   "source": [
    "trainModel = sm.OLS(\n",
    "  trainSet[\"Wage\"],\n",
    "  wageModel3Transformer(trainSet)\n",
    ")\n",
    "trainModelFit = trainModel.fit()\n",
    "print(trainModelFit.summary())"
   ]
  },
  {
   "cell_type": "code",
   "execution_count": 30,
   "metadata": {
    "id": "4IQWm6sAZ49v"
   },
   "outputs": [
    {
     "name": "stdout",
     "output_type": "stream",
     "text": [
      "                            OLS Regression Results                            \n",
      "==============================================================================\n",
      "Dep. Variable:                   Wage   R-squared:                       0.400\n",
      "Model:                            OLS   Adj. R-squared:                  0.385\n",
      "Method:                 Least Squares   F-statistic:                     25.72\n",
      "Date:                Wed, 25 Jun 2025   Prob (F-statistic):           2.79e-09\n",
      "Time:                        20:41:00   Log-Likelihood:                -253.53\n",
      "No. Observations:                  80   AIC:                             513.1\n",
      "Df Residuals:                      77   BIC:                             520.2\n",
      "Df Model:                           2                                         \n",
      "Covariance Type:            nonrobust                                         \n",
      "==============================================================================\n",
      "                 coef    std err          t      P>|t|      [0.025      0.975]\n",
      "------------------------------------------------------------------------------\n",
      "const        -14.4664      5.569     -2.598      0.011     -25.556      -3.376\n",
      "Age            1.7567      0.246      7.150      0.000       1.267       2.246\n",
      "agePower2     -0.0173      0.002     -6.976      0.000      -0.022      -0.012\n",
      "==============================================================================\n",
      "Omnibus:                        2.225   Durbin-Watson:                   2.070\n",
      "Prob(Omnibus):                  0.329   Jarque-Bera (JB):                2.224\n",
      "Skew:                           0.370   Prob(JB):                        0.329\n",
      "Kurtosis:                       2.652   Cond. No.                     2.74e+04\n",
      "==============================================================================\n",
      "\n",
      "Notes:\n",
      "[1] Standard Errors assume that the covariance matrix of the errors is correctly specified.\n",
      "[2] The condition number is large, 2.74e+04. This might indicate that there are\n",
      "strong multicollinearity or other numerical problems.\n"
     ]
    }
   ],
   "source": [
    "print(wageModel3Fit.summary())"
   ]
  },
  {
   "cell_type": "code",
   "execution_count": 31,
   "metadata": {
    "colab": {
     "base_uri": "https://localhost:8080/",
     "height": 425
    },
    "id": "iDMK9vMyaKcb",
    "outputId": "f7a3e954-1ad8-46e7-9cdf-06e2dd21dcd2"
   },
   "outputs": [
    {
     "data": {
      "text/html": [
       "<div>\n",
       "<style scoped>\n",
       "    .dataframe tbody tr th:only-of-type {\n",
       "        vertical-align: middle;\n",
       "    }\n",
       "\n",
       "    .dataframe tbody tr th {\n",
       "        vertical-align: top;\n",
       "    }\n",
       "\n",
       "    .dataframe thead th {\n",
       "        text-align: right;\n",
       "    }\n",
       "</style>\n",
       "<table border=\"1\" class=\"dataframe\">\n",
       "  <thead>\n",
       "    <tr style=\"text-align: right;\">\n",
       "      <th></th>\n",
       "      <th>Wage</th>\n",
       "      <th>Educ</th>\n",
       "      <th>Age</th>\n",
       "      <th>agePower2</th>\n",
       "      <th>predictedWage3</th>\n",
       "      <th>predictedTest</th>\n",
       "    </tr>\n",
       "  </thead>\n",
       "  <tbody>\n",
       "    <tr>\n",
       "      <th>28</th>\n",
       "      <td>16.37</td>\n",
       "      <td>12</td>\n",
       "      <td>22</td>\n",
       "      <td>484.0</td>\n",
       "      <td>15.788477</td>\n",
       "      <td>15.742293</td>\n",
       "    </tr>\n",
       "    <tr>\n",
       "      <th>64</th>\n",
       "      <td>18.28</td>\n",
       "      <td>8</td>\n",
       "      <td>70</td>\n",
       "      <td>4900.0</td>\n",
       "      <td>23.540161</td>\n",
       "      <td>23.156031</td>\n",
       "    </tr>\n",
       "    <tr>\n",
       "      <th>57</th>\n",
       "      <td>20.15</td>\n",
       "      <td>10</td>\n",
       "      <td>41</td>\n",
       "      <td>1681.0</td>\n",
       "      <td>28.410612</td>\n",
       "      <td>28.750289</td>\n",
       "    </tr>\n",
       "    <tr>\n",
       "      <th>54</th>\n",
       "      <td>33.70</td>\n",
       "      <td>18</td>\n",
       "      <td>62</td>\n",
       "      <td>3844.0</td>\n",
       "      <td>27.796677</td>\n",
       "      <td>27.770654</td>\n",
       "    </tr>\n",
       "    <tr>\n",
       "      <th>8</th>\n",
       "      <td>25.60</td>\n",
       "      <td>15</td>\n",
       "      <td>54</td>\n",
       "      <td>2916.0</td>\n",
       "      <td>29.833807</td>\n",
       "      <td>30.045178</td>\n",
       "    </tr>\n",
       "    <tr>\n",
       "      <th>72</th>\n",
       "      <td>35.71</td>\n",
       "      <td>18</td>\n",
       "      <td>66</td>\n",
       "      <td>4356.0</td>\n",
       "      <td>25.945842</td>\n",
       "      <td>25.755855</td>\n",
       "    </tr>\n",
       "    <tr>\n",
       "      <th>45</th>\n",
       "      <td>26.04</td>\n",
       "      <td>17</td>\n",
       "      <td>36</td>\n",
       "      <td>1296.0</td>\n",
       "      <td>26.302724</td>\n",
       "      <td>26.606873</td>\n",
       "    </tr>\n",
       "    <tr>\n",
       "      <th>29</th>\n",
       "      <td>16.97</td>\n",
       "      <td>9</td>\n",
       "      <td>32</td>\n",
       "      <td>1024.0</td>\n",
       "      <td>23.992211</td>\n",
       "      <td>24.233988</td>\n",
       "    </tr>\n",
       "    <tr>\n",
       "      <th>44</th>\n",
       "      <td>24.26</td>\n",
       "      <td>20</td>\n",
       "      <td>25</td>\n",
       "      <td>625.0</td>\n",
       "      <td>18.613715</td>\n",
       "      <td>18.673724</td>\n",
       "    </tr>\n",
       "    <tr>\n",
       "      <th>73</th>\n",
       "      <td>24.74</td>\n",
       "      <td>14</td>\n",
       "      <td>33</td>\n",
       "      <td>1089.0</td>\n",
       "      <td>24.621856</td>\n",
       "      <td>24.882055</td>\n",
       "    </tr>\n",
       "    <tr>\n",
       "      <th>18</th>\n",
       "      <td>23.92</td>\n",
       "      <td>16</td>\n",
       "      <td>74</td>\n",
       "      <td>5476.0</td>\n",
       "      <td>20.579633</td>\n",
       "      <td>19.971184</td>\n",
       "    </tr>\n",
       "    <tr>\n",
       "      <th>22</th>\n",
       "      <td>25.67</td>\n",
       "      <td>12</td>\n",
       "      <td>37</td>\n",
       "      <td>1369.0</td>\n",
       "      <td>26.793657</td>\n",
       "      <td>27.108684</td>\n",
       "    </tr>\n",
       "  </tbody>\n",
       "</table>\n",
       "</div>"
      ],
      "text/plain": [
       "     Wage  Educ  Age  agePower2  predictedWage3  predictedTest\n",
       "28  16.37    12   22      484.0       15.788477      15.742293\n",
       "64  18.28     8   70     4900.0       23.540161      23.156031\n",
       "57  20.15    10   41     1681.0       28.410612      28.750289\n",
       "54  33.70    18   62     3844.0       27.796677      27.770654\n",
       "8   25.60    15   54     2916.0       29.833807      30.045178\n",
       "72  35.71    18   66     4356.0       25.945842      25.755855\n",
       "45  26.04    17   36     1296.0       26.302724      26.606873\n",
       "29  16.97     9   32     1024.0       23.992211      24.233988\n",
       "44  24.26    20   25      625.0       18.613715      18.673724\n",
       "73  24.74    14   33     1089.0       24.621856      24.882055\n",
       "18  23.92    16   74     5476.0       20.579633      19.971184\n",
       "22  25.67    12   37     1369.0       26.793657      27.108684"
      ]
     },
     "execution_count": 31,
     "metadata": {},
     "output_type": "execute_result"
    }
   ],
   "source": [
    "predictedTest = trainModelFit.predict(wageModel3Transformer(testSet))\n",
    "testSet['predictedTest'] = predictedTest\n",
    "testSet"
   ]
  },
  {
   "cell_type": "code",
   "execution_count": 32,
   "metadata": {
    "id": "eRBHphDvakJD"
   },
   "outputs": [
    {
     "data": {
      "text/html": [
       "<div>\n",
       "<style scoped>\n",
       "    .dataframe tbody tr th:only-of-type {\n",
       "        vertical-align: middle;\n",
       "    }\n",
       "\n",
       "    .dataframe tbody tr th {\n",
       "        vertical-align: top;\n",
       "    }\n",
       "\n",
       "    .dataframe thead th {\n",
       "        text-align: right;\n",
       "    }\n",
       "</style>\n",
       "<table border=\"1\" class=\"dataframe\">\n",
       "  <thead>\n",
       "    <tr style=\"text-align: right;\">\n",
       "      <th></th>\n",
       "      <th>Wage</th>\n",
       "      <th>Educ</th>\n",
       "      <th>Age</th>\n",
       "      <th>agePower2</th>\n",
       "      <th>predictedWage3</th>\n",
       "      <th>predictedTest</th>\n",
       "      <th>error</th>\n",
       "    </tr>\n",
       "  </thead>\n",
       "  <tbody>\n",
       "    <tr>\n",
       "      <th>28</th>\n",
       "      <td>16.37</td>\n",
       "      <td>12</td>\n",
       "      <td>22</td>\n",
       "      <td>484.0</td>\n",
       "      <td>15.788477</td>\n",
       "      <td>15.742293</td>\n",
       "      <td>0.627707</td>\n",
       "    </tr>\n",
       "    <tr>\n",
       "      <th>64</th>\n",
       "      <td>18.28</td>\n",
       "      <td>8</td>\n",
       "      <td>70</td>\n",
       "      <td>4900.0</td>\n",
       "      <td>23.540161</td>\n",
       "      <td>23.156031</td>\n",
       "      <td>-4.876031</td>\n",
       "    </tr>\n",
       "    <tr>\n",
       "      <th>57</th>\n",
       "      <td>20.15</td>\n",
       "      <td>10</td>\n",
       "      <td>41</td>\n",
       "      <td>1681.0</td>\n",
       "      <td>28.410612</td>\n",
       "      <td>28.750289</td>\n",
       "      <td>-8.600289</td>\n",
       "    </tr>\n",
       "    <tr>\n",
       "      <th>54</th>\n",
       "      <td>33.70</td>\n",
       "      <td>18</td>\n",
       "      <td>62</td>\n",
       "      <td>3844.0</td>\n",
       "      <td>27.796677</td>\n",
       "      <td>27.770654</td>\n",
       "      <td>5.929346</td>\n",
       "    </tr>\n",
       "    <tr>\n",
       "      <th>8</th>\n",
       "      <td>25.60</td>\n",
       "      <td>15</td>\n",
       "      <td>54</td>\n",
       "      <td>2916.0</td>\n",
       "      <td>29.833807</td>\n",
       "      <td>30.045178</td>\n",
       "      <td>-4.445178</td>\n",
       "    </tr>\n",
       "    <tr>\n",
       "      <th>72</th>\n",
       "      <td>35.71</td>\n",
       "      <td>18</td>\n",
       "      <td>66</td>\n",
       "      <td>4356.0</td>\n",
       "      <td>25.945842</td>\n",
       "      <td>25.755855</td>\n",
       "      <td>9.954145</td>\n",
       "    </tr>\n",
       "    <tr>\n",
       "      <th>45</th>\n",
       "      <td>26.04</td>\n",
       "      <td>17</td>\n",
       "      <td>36</td>\n",
       "      <td>1296.0</td>\n",
       "      <td>26.302724</td>\n",
       "      <td>26.606873</td>\n",
       "      <td>-0.566873</td>\n",
       "    </tr>\n",
       "    <tr>\n",
       "      <th>29</th>\n",
       "      <td>16.97</td>\n",
       "      <td>9</td>\n",
       "      <td>32</td>\n",
       "      <td>1024.0</td>\n",
       "      <td>23.992211</td>\n",
       "      <td>24.233988</td>\n",
       "      <td>-7.263988</td>\n",
       "    </tr>\n",
       "    <tr>\n",
       "      <th>44</th>\n",
       "      <td>24.26</td>\n",
       "      <td>20</td>\n",
       "      <td>25</td>\n",
       "      <td>625.0</td>\n",
       "      <td>18.613715</td>\n",
       "      <td>18.673724</td>\n",
       "      <td>5.586276</td>\n",
       "    </tr>\n",
       "    <tr>\n",
       "      <th>73</th>\n",
       "      <td>24.74</td>\n",
       "      <td>14</td>\n",
       "      <td>33</td>\n",
       "      <td>1089.0</td>\n",
       "      <td>24.621856</td>\n",
       "      <td>24.882055</td>\n",
       "      <td>-0.142055</td>\n",
       "    </tr>\n",
       "    <tr>\n",
       "      <th>18</th>\n",
       "      <td>23.92</td>\n",
       "      <td>16</td>\n",
       "      <td>74</td>\n",
       "      <td>5476.0</td>\n",
       "      <td>20.579633</td>\n",
       "      <td>19.971184</td>\n",
       "      <td>3.948816</td>\n",
       "    </tr>\n",
       "    <tr>\n",
       "      <th>22</th>\n",
       "      <td>25.67</td>\n",
       "      <td>12</td>\n",
       "      <td>37</td>\n",
       "      <td>1369.0</td>\n",
       "      <td>26.793657</td>\n",
       "      <td>27.108684</td>\n",
       "      <td>-1.438684</td>\n",
       "    </tr>\n",
       "  </tbody>\n",
       "</table>\n",
       "</div>"
      ],
      "text/plain": [
       "     Wage  Educ  Age  agePower2  predictedWage3  predictedTest     error\n",
       "28  16.37    12   22      484.0       15.788477      15.742293  0.627707\n",
       "64  18.28     8   70     4900.0       23.540161      23.156031 -4.876031\n",
       "57  20.15    10   41     1681.0       28.410612      28.750289 -8.600289\n",
       "54  33.70    18   62     3844.0       27.796677      27.770654  5.929346\n",
       "8   25.60    15   54     2916.0       29.833807      30.045178 -4.445178\n",
       "72  35.71    18   66     4356.0       25.945842      25.755855  9.954145\n",
       "45  26.04    17   36     1296.0       26.302724      26.606873 -0.566873\n",
       "29  16.97     9   32     1024.0       23.992211      24.233988 -7.263988\n",
       "44  24.26    20   25      625.0       18.613715      18.673724  5.586276\n",
       "73  24.74    14   33     1089.0       24.621856      24.882055 -0.142055\n",
       "18  23.92    16   74     5476.0       20.579633      19.971184  3.948816\n",
       "22  25.67    12   37     1369.0       26.793657      27.108684 -1.438684"
      ]
     },
     "execution_count": 32,
     "metadata": {},
     "output_type": "execute_result"
    }
   ],
   "source": [
    "testSet['error']  = testSet['Wage'] - testSet['predictedTest']\n",
    "testSet"
   ]
  },
  {
   "cell_type": "code",
   "execution_count": 33,
   "metadata": {
    "id": "OB2czTPPaydk"
   },
   "outputs": [
    {
     "data": {
      "image/png": "[encoded data removed]",
      "text/plain": [
       "<Figure size 640x480 with 1 Axes>"
      ]
     },
     "metadata": {},
     "output_type": "display_data"
    }
   ],
   "source": [
    "# Plot errors\n",
    "plt.scatter(range(len(testSet['error'])), testSet['error'])\n",
    "plt.axhline(y=0, color='r', linestyle='-')\n",
    "plt.xlabel('Index')\n",
    "plt.ylabel('Error')\n",
    "plt.title('Error Plot')\n",
    "plt.show()\n"
   ]
  },
  {
   "cell_type": "code",
   "execution_count": 34,
   "metadata": {
    "id": "eQLAKa7ma8FF"
   },
   "outputs": [
    {
     "name": "stdout",
     "output_type": "stream",
     "text": [
      "RMSE: 5.432256405746362\n"
     ]
    }
   ],
   "source": [
    "from sklearn.metrics import mean_squared_error\n",
    "# Calculate RMSE\n",
    "rmse = np.sqrt(mean_squared_error(testSet['Wage'], testSet['predictedTest']))\n",
    "print(\"RMSE:\", rmse)"
   ]
  },
  {
   "cell_type": "code",
   "execution_count": 35,
   "metadata": {
    "id": "1vyO_1khbMJH"
   },
   "outputs": [
    {
     "name": "stdout",
     "output_type": "stream",
     "text": [
      "RMSE with respect to mean of train set wage: 5.74134052049016\n"
     ]
    }
   ],
   "source": [
    "# RMSE with respect to mean of train set wage\n",
    "meanTrainWage = np.mean(testSet['Wage'])\n",
    "rmseMean = np.sqrt(mean_squared_error(testSet['Wage'], [meanTrainWage] * len(testSet['Wage'])))\n",
    "print(\"RMSE with respect to mean of train set wage:\", rmseMean)"
   ]
  },
  {
   "cell_type": "markdown",
   "metadata": {
    "id": "GfVS5gDcZJ2L"
   },
   "source": []
  },
  {
   "cell_type": "code",
   "execution_count": 36,
   "metadata": {},
   "outputs": [],
   "source": [
    "def wageModel5Transformer(dataForTransfer = None):\n",
    "    import pandas as pd\n",
    "    import statsmodels.api as sm\n",
    "    if isinstance(dataForTransfer, pd.DataFrame):\n",
    "        df = dataForTransfer.copy()\n",
    "    else:\n",
    "        df = pd.DataFrame(dataForTransfer)\n",
    "    df['agePower2'] = df.apply(lambda row: row['Age'] * row['Age'], axis=1)\n",
    "    dfTransformer = sm.add_constant(df[['Educ','Age', 'agePower2']],has_constant='add')\n",
    "    return dfTransformer"
   ]
  },
  {
   "cell_type": "code",
   "execution_count": 37,
   "metadata": {
    "id": "sInRkJsaCGW0"
   },
   "outputs": [
    {
     "name": "stdout",
     "output_type": "stream",
     "text": [
      "                            OLS Regression Results                            \n",
      "==============================================================================\n",
      "Dep. Variable:                   Wage   R-squared:                       0.838\n",
      "Model:                            OLS   Adj. R-squared:                  0.831\n",
      "Method:                 Least Squares   F-statistic:                     110.7\n",
      "Date:                Wed, 25 Jun 2025   Prob (F-statistic):           2.77e-25\n",
      "Time:                        20:41:01   Log-Likelihood:                -173.21\n",
      "No. Observations:                  68   AIC:                             354.4\n",
      "Df Residuals:                      64   BIC:                             363.3\n",
      "Df Model:                           3                                         \n",
      "Covariance Type:            nonrobust                                         \n",
      "==============================================================================\n",
      "                 coef    std err          t      P>|t|      [0.025      0.975]\n",
      "------------------------------------------------------------------------------\n",
      "const        -22.6458      3.274     -6.917      0.000     -29.186     -16.106\n",
      "Educ           1.2648      0.099     12.772      0.000       1.067       1.463\n",
      "Age            1.3605      0.146      9.311      0.000       1.069       1.652\n",
      "agePower2     -0.0136      0.001     -9.206      0.000      -0.017      -0.011\n",
      "==============================================================================\n",
      "Omnibus:                        3.020   Durbin-Watson:                   2.255\n",
      "Prob(Omnibus):                  0.221   Jarque-Bera (JB):                2.785\n",
      "Skew:                          -0.044   Prob(JB):                        0.248\n",
      "Kurtosis:                       3.987   Cond. No.                     2.77e+04\n",
      "==============================================================================\n",
      "\n",
      "Notes:\n",
      "[1] Standard Errors assume that the covariance matrix of the errors is correctly specified.\n",
      "[2] The condition number is large, 2.77e+04. This might indicate that there are\n",
      "strong multicollinearity or other numerical problems.\n"
     ]
    }
   ],
   "source": [
    "# Lets include Education\n",
    "trainModel2 = sm.OLS(\n",
    "  trainSet[\"Wage\"],\n",
    "  wageModel5Transformer(trainSet)\n",
    ")\n",
    "trainModel2Fit = trainModel2.fit()\n",
    "print(trainModel2Fit.summary())"
   ]
  },
  {
   "cell_type": "code",
   "execution_count": 38,
   "metadata": {
    "id": "RIJE5VocCWXY"
   },
   "outputs": [
    {
     "data": {
      "text/html": [
       "<div>\n",
       "<style scoped>\n",
       "    .dataframe tbody tr th:only-of-type {\n",
       "        vertical-align: middle;\n",
       "    }\n",
       "\n",
       "    .dataframe tbody tr th {\n",
       "        vertical-align: top;\n",
       "    }\n",
       "\n",
       "    .dataframe thead th {\n",
       "        text-align: right;\n",
       "    }\n",
       "</style>\n",
       "<table border=\"1\" class=\"dataframe\">\n",
       "  <thead>\n",
       "    <tr style=\"text-align: right;\">\n",
       "      <th></th>\n",
       "      <th>Wage</th>\n",
       "      <th>Educ</th>\n",
       "      <th>Age</th>\n",
       "      <th>agePower2</th>\n",
       "      <th>predictedWage3</th>\n",
       "      <th>predictedTest</th>\n",
       "      <th>error</th>\n",
       "      <th>predictedTest2</th>\n",
       "      <th>error2</th>\n",
       "    </tr>\n",
       "  </thead>\n",
       "  <tbody>\n",
       "    <tr>\n",
       "      <th>28</th>\n",
       "      <td>16.37</td>\n",
       "      <td>12</td>\n",
       "      <td>22</td>\n",
       "      <td>484.0</td>\n",
       "      <td>15.788477</td>\n",
       "      <td>15.742293</td>\n",
       "      <td>0.627707</td>\n",
       "      <td>15.900342</td>\n",
       "      <td>0.469658</td>\n",
       "    </tr>\n",
       "    <tr>\n",
       "      <th>64</th>\n",
       "      <td>18.28</td>\n",
       "      <td>8</td>\n",
       "      <td>70</td>\n",
       "      <td>4900.0</td>\n",
       "      <td>23.540161</td>\n",
       "      <td>23.156031</td>\n",
       "      <td>-4.876031</td>\n",
       "      <td>16.266245</td>\n",
       "      <td>2.013755</td>\n",
       "    </tr>\n",
       "    <tr>\n",
       "      <th>57</th>\n",
       "      <td>20.15</td>\n",
       "      <td>10</td>\n",
       "      <td>41</td>\n",
       "      <td>1681.0</td>\n",
       "      <td>28.410612</td>\n",
       "      <td>28.750289</td>\n",
       "      <td>-8.600289</td>\n",
       "      <td>22.989471</td>\n",
       "      <td>-2.839471</td>\n",
       "    </tr>\n",
       "    <tr>\n",
       "      <th>54</th>\n",
       "      <td>33.70</td>\n",
       "      <td>18</td>\n",
       "      <td>62</td>\n",
       "      <td>3844.0</td>\n",
       "      <td>27.796677</td>\n",
       "      <td>27.770654</td>\n",
       "      <td>5.929346</td>\n",
       "      <td>32.349383</td>\n",
       "      <td>1.350617</td>\n",
       "    </tr>\n",
       "    <tr>\n",
       "      <th>8</th>\n",
       "      <td>25.60</td>\n",
       "      <td>15</td>\n",
       "      <td>54</td>\n",
       "      <td>2916.0</td>\n",
       "      <td>29.833807</td>\n",
       "      <td>30.045178</td>\n",
       "      <td>-4.445178</td>\n",
       "      <td>30.254124</td>\n",
       "      <td>-4.654124</td>\n",
       "    </tr>\n",
       "    <tr>\n",
       "      <th>72</th>\n",
       "      <td>35.71</td>\n",
       "      <td>18</td>\n",
       "      <td>66</td>\n",
       "      <td>4356.0</td>\n",
       "      <td>25.945842</td>\n",
       "      <td>25.755855</td>\n",
       "      <td>9.954145</td>\n",
       "      <td>30.848911</td>\n",
       "      <td>4.861089</td>\n",
       "    </tr>\n",
       "    <tr>\n",
       "      <th>45</th>\n",
       "      <td>26.04</td>\n",
       "      <td>17</td>\n",
       "      <td>36</td>\n",
       "      <td>1296.0</td>\n",
       "      <td>26.302724</td>\n",
       "      <td>26.606873</td>\n",
       "      <td>-0.566873</td>\n",
       "      <td>30.261182</td>\n",
       "      <td>-4.221182</td>\n",
       "    </tr>\n",
       "    <tr>\n",
       "      <th>29</th>\n",
       "      <td>16.97</td>\n",
       "      <td>9</td>\n",
       "      <td>32</td>\n",
       "      <td>1024.0</td>\n",
       "      <td>23.992211</td>\n",
       "      <td>24.233988</td>\n",
       "      <td>-7.263988</td>\n",
       "      <td>18.388733</td>\n",
       "      <td>-1.418733</td>\n",
       "    </tr>\n",
       "    <tr>\n",
       "      <th>44</th>\n",
       "      <td>24.26</td>\n",
       "      <td>20</td>\n",
       "      <td>25</td>\n",
       "      <td>625.0</td>\n",
       "      <td>18.613715</td>\n",
       "      <td>18.673724</td>\n",
       "      <td>5.586276</td>\n",
       "      <td>28.188587</td>\n",
       "      <td>-3.928587</td>\n",
       "    </tr>\n",
       "    <tr>\n",
       "      <th>73</th>\n",
       "      <td>24.74</td>\n",
       "      <td>14</td>\n",
       "      <td>33</td>\n",
       "      <td>1089.0</td>\n",
       "      <td>24.621856</td>\n",
       "      <td>24.882055</td>\n",
       "      <td>-0.142055</td>\n",
       "      <td>25.192011</td>\n",
       "      <td>-0.452011</td>\n",
       "    </tr>\n",
       "    <tr>\n",
       "      <th>18</th>\n",
       "      <td>23.92</td>\n",
       "      <td>16</td>\n",
       "      <td>74</td>\n",
       "      <td>5476.0</td>\n",
       "      <td>20.579633</td>\n",
       "      <td>19.971184</td>\n",
       "      <td>3.948816</td>\n",
       "      <td>24.016595</td>\n",
       "      <td>-0.096595</td>\n",
       "    </tr>\n",
       "    <tr>\n",
       "      <th>22</th>\n",
       "      <td>25.67</td>\n",
       "      <td>12</td>\n",
       "      <td>37</td>\n",
       "      <td>1369.0</td>\n",
       "      <td>26.793657</td>\n",
       "      <td>27.108684</td>\n",
       "      <td>-1.438684</td>\n",
       "      <td>24.307694</td>\n",
       "      <td>1.362306</td>\n",
       "    </tr>\n",
       "  </tbody>\n",
       "</table>\n",
       "</div>"
      ],
      "text/plain": [
       "     Wage  Educ  Age  agePower2  predictedWage3  predictedTest     error  \\\n",
       "28  16.37    12   22      484.0       15.788477      15.742293  0.627707   \n",
       "64  18.28     8   70     4900.0       23.540161      23.156031 -4.876031   \n",
       "57  20.15    10   41     1681.0       28.410612      28.750289 -8.600289   \n",
       "54  33.70    18   62     3844.0       27.796677      27.770654  5.929346   \n",
       "8   25.60    15   54     2916.0       29.833807      30.045178 -4.445178   \n",
       "72  35.71    18   66     4356.0       25.945842      25.755855  9.954145   \n",
       "45  26.04    17   36     1296.0       26.302724      26.606873 -0.566873   \n",
       "29  16.97     9   32     1024.0       23.992211      24.233988 -7.263988   \n",
       "44  24.26    20   25      625.0       18.613715      18.673724  5.586276   \n",
       "73  24.74    14   33     1089.0       24.621856      24.882055 -0.142055   \n",
       "18  23.92    16   74     5476.0       20.579633      19.971184  3.948816   \n",
       "22  25.67    12   37     1369.0       26.793657      27.108684 -1.438684   \n",
       "\n",
       "    predictedTest2    error2  \n",
       "28       15.900342  0.469658  \n",
       "64       16.266245  2.013755  \n",
       "57       22.989471 -2.839471  \n",
       "54       32.349383  1.350617  \n",
       "8        30.254124 -4.654124  \n",
       "72       30.848911  4.861089  \n",
       "45       30.261182 -4.221182  \n",
       "29       18.388733 -1.418733  \n",
       "44       28.188587 -3.928587  \n",
       "73       25.192011 -0.452011  \n",
       "18       24.016595 -0.096595  \n",
       "22       24.307694  1.362306  "
      ]
     },
     "execution_count": 38,
     "metadata": {},
     "output_type": "execute_result"
    }
   ],
   "source": [
    "predictedTest2 = trainModel2Fit.predict(wageModel5Transformer(testSet))\n",
    "testSet['predictedTest2'] = predictedTest2\n",
    "testSet['error2']  = testSet['Wage'] - testSet['predictedTest2']\n",
    "testSet\n"
   ]
  },
  {
   "cell_type": "code",
   "execution_count": 39,
   "metadata": {
    "id": "_OuPA5wMCtAl"
   },
   "outputs": [
    {
     "data": {
      "image/png": "[encoded data removed]",
      "text/plain": [
       "<Figure size 640x480 with 1 Axes>"
      ]
     },
     "metadata": {},
     "output_type": "display_data"
    }
   ],
   "source": [
    "# Plot errors\n",
    "plt.scatter(range(len(testSet['error'])), testSet['error'])\n",
    "plt.scatter(range(len(testSet['error2'])), testSet['error2'])\n",
    "plt.axhline(y=0, color='r', linestyle='-')\n",
    "plt.xlabel('Index')\n",
    "plt.ylabel('Error')\n",
    "plt.title('Error Plot')\n",
    "plt.show()\n"
   ]
  },
  {
   "cell_type": "code",
   "execution_count": 40,
   "metadata": {
    "id": "F7rufvHzC6o1"
   },
   "outputs": [
    {
     "name": "stdout",
     "output_type": "stream",
     "text": [
      "RMSE: 5.432256405746362\n",
      "RMSE2: 2.8400133060358015\n"
     ]
    }
   ],
   "source": [
    "rmse2 = np.sqrt(mean_squared_error(testSet['Wage'], testSet['predictedTest2']))\n",
    "print(\"RMSE:\", rmse)\n",
    "print(\"RMSE2:\", rmse2)"
   ]
  },
  {
   "cell_type": "code",
   "execution_count": 41,
   "metadata": {
    "id": "9dljGpMDDE_O"
   },
   "outputs": [
    {
     "name": "stdout",
     "output_type": "stream",
     "text": [
      "RMSE with respect to mean of train set wage: 5.74134052049016\n"
     ]
    }
   ],
   "source": [
    "print(\"RMSE with respect to mean of train set wage:\", rmseMean)"
   ]
  },
  {
   "cell_type": "code",
   "execution_count": 42,
   "metadata": {},
   "outputs": [],
   "source": [
    "wage1SampleData = {\n",
    "    \"Educ\": [12],\n",
    "    \"Age\": [76]\n",
    "}"
   ]
  },
  {
   "cell_type": "code",
   "execution_count": 43,
   "metadata": {},
   "outputs": [],
   "source": [
    "def generalRegressionPredictor(self, transformedData):\n",
    "    return self.predict(transformedData)"
   ]
  },
  {
   "cell_type": "code",
   "execution_count": 44,
   "metadata": {},
   "outputs": [
    {
     "name": "stdout",
     "output_type": "stream",
     "text": [
      "✅ Uploaded encrypted ZIP to s3://273-g4/zhuying_piao__to_predictModelBest__1.0.1.pkl.zip\n"
     ]
    },
    {
     "data": {
      "text/plain": [
       "{'_id': '685c971df49b438a682e52d5',\n",
       " 'modelName': 'zhuying_piao__to_predictModelBest',\n",
       " 'version': '1.0.1',\n",
       " 'params': {'const': -22.645849929449504,\n",
       "  'Educ': 1.2648289422781942,\n",
       "  'Age': 1.3605027543273607,\n",
       "  'agePower2': -0.01355953658026225},\n",
       " 'score': -2.8400133060358015,\n",
       " 'modelLibraray': 'sm.OLS',\n",
       " 'libraryMetadata': {'pvalues': {'const': 2.5984459912939652e-09,\n",
       "   'Educ': 2.9132320681002193e-19,\n",
       "   'Age': 1.624144145496897e-13,\n",
       "   'agePower2': 2.4761159884350104e-13},\n",
       "  'r_squared': 0.8384107429488208,\n",
       "  'adj_r_squared': 0.8308362465245468},\n",
       " 'sampleData': {'dataForTransfer': {'Educ': [12], 'Age': [76]}},\n",
       " 'modelType': 'model',\n",
       " 'keepLastOnly': False,\n",
       " 'modelSizeBytes': 15479,\n",
       " 'zippedModelSizeBytes': 6852,\n",
       " 's3Url': '273-g4/zhuying_piao__to_predictModelBest__1.0.1.pkl.zip',\n",
       " 'createdAt': '2025-06-26T00:41:01.315Z',\n",
       " 'updatedAt': '2025-06-26T00:41:01.315Z'}"
      ]
     },
     "execution_count": 44,
     "metadata": {},
     "output_type": "execute_result"
    }
   ],
   "source": [
    "trainModel2Fit.transformer = wageModel5Transformer\n",
    "trainModel2Fit.mainPredictor = partial(generalRegressionPredictor, trainModel2Fit)\n",
    "registerAJrjModel(\n",
    "    trainModel2Fit,\n",
    "    {\n",
    "        \"modelName\":f\"zhuying_piao__to_predictModelBest\",\n",
    "        \"version\":\"1.0.1\",\n",
    "        \"params\": trainModel2Fit.params.to_dict(),\n",
    "        \"score\": -1 * rmse2,\n",
    "        \"modelLibraray\": 'sm.OLS',\n",
    "        \"libraryMetadata\": {\n",
    "            \"pvalues\": trainModel2Fit.pvalues.to_dict(),\n",
    "            \"r_squared\": float(trainModel2Fit.rsquared),\n",
    "            \"adj_r_squared\": float(trainModel2Fit.rsquared_adj)\n",
    "        },\n",
    "    \n",
    "        \"sampleData\": {\n",
    "            \"dataForTransfer\": wage1SampleData\n",
    "        }\n",
    "    }\n",
    ")"
   ]
  },
  {
   "cell_type": "markdown",
   "metadata": {
    "id": "JZWdvpAyGOvr"
   },
   "source": [
    "# K-Fold Cross validation"
   ]
  },
  {
   "cell_type": "code",
   "execution_count": 45,
   "metadata": {
    "id": "axfSIZSrGODF"
   },
   "outputs": [],
   "source": [
    "from sklearn.model_selection import KFold"
   ]
  },
  {
   "cell_type": "code",
   "execution_count": 46,
   "metadata": {
    "id": "koiuVlcKGWxp"
   },
   "outputs": [],
   "source": [
    "# Initialize KFold\n",
    "kf = KFold(n_splits=5, shuffle=True, random_state=55)\n"
   ]
  },
  {
   "cell_type": "code",
   "execution_count": 47,
   "metadata": {
    "id": "ZlKyoUVrG27y"
   },
   "outputs": [
    {
     "name": "stdout",
     "output_type": "stream",
     "text": [
      "expr=1\n",
      "                            OLS Regression Results                            \n",
      "==============================================================================\n",
      "Dep. Variable:                   Wage   R-squared:                       0.830\n",
      "Model:                            OLS   Adj. R-squared:                  0.821\n",
      "Method:                 Least Squares   F-statistic:                     97.45\n",
      "Date:                Wed, 25 Jun 2025   Prob (F-statistic):           4.92e-23\n",
      "Time:                        20:41:01   Log-Likelihood:                -162.87\n",
      "No. Observations:                  64   AIC:                             333.7\n",
      "Df Residuals:                      60   BIC:                             342.4\n",
      "Df Model:                           3                                         \n",
      "Covariance Type:            nonrobust                                         \n",
      "==============================================================================\n",
      "                 coef    std err          t      P>|t|      [0.025      0.975]\n",
      "------------------------------------------------------------------------------\n",
      "const        -22.2984      3.562     -6.261      0.000     -29.423     -15.174\n",
      "Educ           1.2866      0.103     12.541      0.000       1.081       1.492\n",
      "Age            1.3276      0.151      8.774      0.000       1.025       1.630\n",
      "agePower2     -0.0132      0.002     -8.788      0.000      -0.016      -0.010\n",
      "==============================================================================\n",
      "Omnibus:                        1.643   Durbin-Watson:                   2.104\n",
      "Prob(Omnibus):                  0.440   Jarque-Bera (JB):                0.956\n",
      "Skew:                           0.238   Prob(JB):                        0.620\n",
      "Kurtosis:                       3.364   Cond. No.                     2.97e+04\n",
      "==============================================================================\n",
      "\n",
      "Notes:\n",
      "[1] Standard Errors assume that the covariance matrix of the errors is correctly specified.\n",
      "[2] The condition number is large, 2.97e+04. This might indicate that there are\n",
      "strong multicollinearity or other numerical problems.\n",
      "expr=2\n",
      "                            OLS Regression Results                            \n",
      "==============================================================================\n",
      "Dep. Variable:                   Wage   R-squared:                       0.822\n",
      "Model:                            OLS   Adj. R-squared:                  0.813\n",
      "Method:                 Least Squares   F-statistic:                     92.55\n",
      "Date:                Wed, 25 Jun 2025   Prob (F-statistic):           1.76e-22\n",
      "Time:                        20:41:01   Log-Likelihood:                -162.13\n",
      "No. Observations:                  64   AIC:                             332.3\n",
      "Df Residuals:                      60   BIC:                             340.9\n",
      "Df Model:                           3                                         \n",
      "Covariance Type:            nonrobust                                         \n",
      "==============================================================================\n",
      "                 coef    std err          t      P>|t|      [0.025      0.975]\n",
      "------------------------------------------------------------------------------\n",
      "const        -22.2553      3.780     -5.888      0.000     -29.816     -14.694\n",
      "Educ           1.2733      0.101     12.639      0.000       1.072       1.475\n",
      "Age            1.3296      0.164      8.101      0.000       1.001       1.658\n",
      "agePower2     -0.0132      0.002     -8.093      0.000      -0.016      -0.010\n",
      "==============================================================================\n",
      "Omnibus:                        4.485   Durbin-Watson:                   1.874\n",
      "Prob(Omnibus):                  0.106   Jarque-Bera (JB):                5.296\n",
      "Skew:                          -0.114   Prob(JB):                       0.0708\n",
      "Kurtosis:                       4.391   Cond. No.                     3.23e+04\n",
      "==============================================================================\n",
      "\n",
      "Notes:\n",
      "[1] Standard Errors assume that the covariance matrix of the errors is correctly specified.\n",
      "[2] The condition number is large, 3.23e+04. This might indicate that there are\n",
      "strong multicollinearity or other numerical problems.\n",
      "expr=3\n",
      "                            OLS Regression Results                            \n",
      "==============================================================================\n",
      "Dep. Variable:                   Wage   R-squared:                       0.837\n",
      "Model:                            OLS   Adj. R-squared:                  0.829\n",
      "Method:                 Least Squares   F-statistic:                     102.6\n",
      "Date:                Wed, 25 Jun 2025   Prob (F-statistic):           1.36e-23\n",
      "Time:                        20:41:01   Log-Likelihood:                -157.79\n",
      "No. Observations:                  64   AIC:                             323.6\n",
      "Df Residuals:                      60   BIC:                             332.2\n",
      "Df Model:                           3                                         \n",
      "Covariance Type:            nonrobust                                         \n",
      "==============================================================================\n",
      "                 coef    std err          t      P>|t|      [0.025      0.975]\n",
      "------------------------------------------------------------------------------\n",
      "const        -20.6106      3.002     -6.865      0.000     -26.616     -14.605\n",
      "Educ           1.1990      0.097     12.384      0.000       1.005       1.393\n",
      "Age            1.2888      0.133      9.712      0.000       1.023       1.554\n",
      "agePower2     -0.0128      0.001     -9.481      0.000      -0.015      -0.010\n",
      "==============================================================================\n",
      "Omnibus:                        2.804   Durbin-Watson:                   1.942\n",
      "Prob(Omnibus):                  0.246   Jarque-Bera (JB):                2.183\n",
      "Skew:                          -0.185   Prob(JB):                        0.336\n",
      "Kurtosis:                       3.826   Cond. No.                     2.61e+04\n",
      "==============================================================================\n",
      "\n",
      "Notes:\n",
      "[1] Standard Errors assume that the covariance matrix of the errors is correctly specified.\n",
      "[2] The condition number is large, 2.61e+04. This might indicate that there are\n",
      "strong multicollinearity or other numerical problems.\n",
      "expr=4\n",
      "                            OLS Regression Results                            \n",
      "==============================================================================\n",
      "Dep. Variable:                   Wage   R-squared:                       0.855\n",
      "Model:                            OLS   Adj. R-squared:                  0.847\n",
      "Method:                 Least Squares   F-statistic:                     117.6\n",
      "Date:                Wed, 25 Jun 2025   Prob (F-statistic):           4.36e-25\n",
      "Time:                        20:41:01   Log-Likelihood:                -158.83\n",
      "No. Observations:                  64   AIC:                             325.7\n",
      "Df Residuals:                      60   BIC:                             334.3\n",
      "Df Model:                           3                                         \n",
      "Covariance Type:            nonrobust                                         \n",
      "==============================================================================\n",
      "                 coef    std err          t      P>|t|      [0.025      0.975]\n",
      "------------------------------------------------------------------------------\n",
      "const        -24.9768      3.300     -7.569      0.000     -31.577     -18.376\n",
      "Educ           1.2422      0.094     13.154      0.000       1.053       1.431\n",
      "Age            1.4276      0.149      9.578      0.000       1.129       1.726\n",
      "agePower2     -0.0139      0.002     -9.135      0.000      -0.017      -0.011\n",
      "==============================================================================\n",
      "Omnibus:                        2.355   Durbin-Watson:                   1.724\n",
      "Prob(Omnibus):                  0.308   Jarque-Bera (JB):                1.635\n",
      "Skew:                           0.184   Prob(JB):                        0.442\n",
      "Kurtosis:                       3.691   Cond. No.                     2.70e+04\n",
      "==============================================================================\n",
      "\n",
      "Notes:\n",
      "[1] Standard Errors assume that the covariance matrix of the errors is correctly specified.\n",
      "[2] The condition number is large, 2.7e+04. This might indicate that there are\n",
      "strong multicollinearity or other numerical problems.\n",
      "expr=5\n",
      "                            OLS Regression Results                            \n",
      "==============================================================================\n",
      "Dep. Variable:                   Wage   R-squared:                       0.824\n",
      "Model:                            OLS   Adj. R-squared:                  0.815\n",
      "Method:                 Least Squares   F-statistic:                     93.66\n",
      "Date:                Wed, 25 Jun 2025   Prob (F-statistic):           1.31e-22\n",
      "Time:                        20:41:01   Log-Likelihood:                -166.31\n",
      "No. Observations:                  64   AIC:                             340.6\n",
      "Df Residuals:                      60   BIC:                             349.2\n",
      "Df Model:                           3                                         \n",
      "Covariance Type:            nonrobust                                         \n",
      "==============================================================================\n",
      "                 coef    std err          t      P>|t|      [0.025      0.975]\n",
      "------------------------------------------------------------------------------\n",
      "const        -23.1219      3.468     -6.667      0.000     -30.059     -16.185\n",
      "Educ           1.2557      0.108     11.675      0.000       1.041       1.471\n",
      "Age            1.3693      0.160      8.544      0.000       1.049       1.690\n",
      "agePower2     -0.0135      0.002     -8.168      0.000      -0.017      -0.010\n",
      "==============================================================================\n",
      "Omnibus:                        2.446   Durbin-Watson:                   1.872\n",
      "Prob(Omnibus):                  0.294   Jarque-Bera (JB):                1.822\n",
      "Skew:                          -0.127   Prob(JB):                        0.402\n",
      "Kurtosis:                       3.787   Cond. No.                     2.63e+04\n",
      "==============================================================================\n",
      "\n",
      "Notes:\n",
      "[1] Standard Errors assume that the covariance matrix of the errors is correctly specified.\n",
      "[2] The condition number is large, 2.63e+04. This might indicate that there are\n",
      "strong multicollinearity or other numerical problems.\n"
     ]
    }
   ],
   "source": [
    "check = kf.split(wagesDf)\n",
    "check\n",
    "experiment = 1\n",
    "# Loop through each fold\n",
    "# Initialize variables to store results\n",
    "bestModel = None\n",
    "bestMse = 100000\n",
    "mseScores = []\n",
    "meanMseScores = []\n",
    "\n",
    "for train_index, val_index in check:\n",
    "    # Split the data\n",
    "    trainSet, valSet = wagesDf.iloc[train_index], wagesDf.iloc[val_index]\n",
    "\n",
    "    # Fit the model\n",
    "    trainModel = sm.OLS(trainSet[\"Wage\"], wageModel5Transformer(trainSet))\n",
    "    trainModelFit = trainModel.fit()\n",
    "\n",
    "    # Predict on the validation set\n",
    "    val_predictions = trainModelFit.predict(wageModel5Transformer(valSet))\n",
    "\n",
    "    # Calculate the mean squared error\n",
    "    mse = mean_squared_error(valSet[\"Wage\"], val_predictions)\n",
    "    meanMse = mean_squared_error(valSet[\"Wage\"], [np.mean(valSet[\"Wage\"])] * len(valSet[\"Wage\"]))\n",
    "    mseScores.append(mse)\n",
    "    meanMseScores.append(meanMse)\n",
    "    if mse < bestMse:\n",
    "        bestMse = mse\n",
    "        bestModel = trainModelFit\n",
    "\n",
    "    # Print summary for each fold (optional)\n",
    "    print(f'expr={experiment}')\n",
    "    experiment = experiment +1\n",
    "    print(trainModelFit.summary())"
   ]
  },
  {
   "cell_type": "code",
   "execution_count": 48,
   "metadata": {
    "id": "z2R-1rXRHjGO"
   },
   "outputs": [
    {
     "data": {
      "text/plain": [
       "([8.610749801253307,\n",
       "  9.323363820814535,\n",
       "  14.593977538637942,\n",
       "  13.728883247357228,\n",
       "  4.300270395424371],\n",
       " [46.270987500000004,\n",
       "  67.21752460937499,\n",
       "  70.4994234375,\n",
       "  45.60951250000001,\n",
       "  35.588746484375])"
      ]
     },
     "execution_count": 48,
     "metadata": {},
     "output_type": "execute_result"
    }
   ],
   "source": [
    "mseScores,meanMseScores"
   ]
  },
  {
   "cell_type": "code",
   "execution_count": null,
   "metadata": {
    "id": "-qZTt_tCJqha"
   },
   "outputs": [],
   "source": []
  },
  {
   "cell_type": "code",
   "execution_count": 49,
   "metadata": {
    "id": "mCPzVffBJjaG"
   },
   "outputs": [
    {
     "data": {
      "text/plain": [
       "(array([2.93440791, 3.05341838, 3.82020648, 3.70525077, 2.07370933]),\n",
       " array([6.80227811, 8.19862943, 8.39639348, 6.75348151, 5.96563043]))"
      ]
     },
     "execution_count": 49,
     "metadata": {},
     "output_type": "execute_result"
    }
   ],
   "source": [
    "rmseScores = np.sqrt(mseScores)\n",
    "rmeanMseScores = np.sqrt(meanMseScores)\n",
    "rmseScores,rmeanMseScores"
   ]
  },
  {
   "cell_type": "code",
   "execution_count": 50,
   "metadata": {
    "id": "7NCXJ2WhHeWA"
   },
   "outputs": [
    {
     "name": "stdout",
     "output_type": "stream",
     "text": [
      "Average MSE across all folds: 10.111448960697476\n",
      "Average MSE Mean across all folds: 53.03723890625\n",
      "Average RMSE across all folds: 3.179850462002494\n",
      "Average RMSE Mean across all folds: 7.282667018767919\n"
     ]
    }
   ],
   "source": [
    "# Calculate average MSE\n",
    "averageMse = sum(mseScores) / len(mseScores)\n",
    "averageMseMean = sum(meanMseScores) / len(mseScores)\n",
    "print(f\"Average MSE across all folds: {averageMse}\")\n",
    "print(f\"Average MSE Mean across all folds: {averageMseMean}\")\n",
    "print(f\"Average RMSE across all folds: {pow(averageMse, 0.5)}\")\n",
    "print(f\"Average RMSE Mean across all folds: {pow(averageMseMean, 0.5)}\")"
   ]
  },
  {
   "cell_type": "code",
   "execution_count": null,
   "metadata": {},
   "outputs": [],
   "source": []
  },
  {
   "cell_type": "code",
   "execution_count": 51,
   "metadata": {},
   "outputs": [
    {
     "name": "stdout",
     "output_type": "stream",
     "text": [
      "✅ Uploaded encrypted ZIP to s3://273-g4/zhuying_piao__to_predictModelBestCrossValidation__1.0.1.pkl.zip\n"
     ]
    },
    {
     "data": {
      "text/plain": [
       "{'_id': '685c971df49b438a682e52d6',\n",
       " 'modelName': 'zhuying_piao__to_predictModelBestCrossValidation',\n",
       " 'version': '1.0.1',\n",
       " 'params': {'const': -23.1219128218587,\n",
       "  'Educ': 1.2557122360809507,\n",
       "  'Age': 1.3692749585159185,\n",
       "  'agePower2': -0.013452999193583797},\n",
       " 'score': -4.300270395424371,\n",
       " 'modelLibraray': 'sm.OLS',\n",
       " 'libraryMetadata': {'pvalues': {'const': 9.211959760766723e-09,\n",
       "   'Educ': 4.3966477974298085e-17,\n",
       "   'Age': 5.81918612091756e-12,\n",
       "   'agePower2': 2.5305737592157277e-11},\n",
       "  'r_squared': 0.8240394850848566,\n",
       "  'adj_r_squared': 0.8152414593390994},\n",
       " 'sampleData': {'dataForTransfer': {'Educ': [12], 'Age': [76]}},\n",
       " 'modelType': 'model',\n",
       " 'keepLastOnly': False,\n",
       " 'modelSizeBytes': 14903,\n",
       " 'zippedModelSizeBytes': 6525,\n",
       " 's3Url': '273-g4/zhuying_piao__to_predictModelBestCrossValidation__1.0.1.pkl.zip',\n",
       " 'createdAt': '2025-06-26T00:41:01.637Z',\n",
       " 'updatedAt': '2025-06-26T00:41:01.637Z'}"
      ]
     },
     "execution_count": 51,
     "metadata": {},
     "output_type": "execute_result"
    }
   ],
   "source": [
    "bestModel.transformer = wageModel5Transformer\n",
    "bestModel.mainPredictor = partial(generalRegressionPredictor, bestModel)\n",
    "registerAJrjModel(\n",
    "    bestModel,\n",
    "    {\n",
    "        \"modelName\":f\"zhuying_piao__to_predictModelBestCrossValidation\",\n",
    "        \"version\":\"1.0.1\",\n",
    "        \"params\": bestModel.params.to_dict(),\n",
    "        \"score\": -1 * bestMse,\n",
    "        \"modelLibraray\": 'sm.OLS',\n",
    "        \"libraryMetadata\": {\n",
    "            \"pvalues\": bestModel.pvalues.to_dict(),\n",
    "            \"r_squared\": float(bestModel.rsquared),\n",
    "            \"adj_r_squared\": float(bestModel.rsquared_adj)\n",
    "        },\n",
    "    \n",
    "        \"sampleData\": {\n",
    "            \"dataForTransfer\": wage1SampleData\n",
    "        }\n",
    "    }\n",
    ")"
   ]
  },
  {
   "cell_type": "code",
   "execution_count": null,
   "metadata": {},
   "outputs": [],
   "source": []
  }
 ],
 "metadata": {
  "colab": {
   "provenance": []
  },
  "kernelspec": {
   "display_name": "Python 3 (ipykernel)",
   "language": "python",
   "name": "python3"
  },
  "language_info": {
   "codemirror_mode": {
    "name": "ipython",
    "version": 3
   },
   "file_extension": ".py",
   "mimetype": "text/x-python",
   "name": "python",
   "nbconvert_exporter": "python",
   "pygments_lexer": "ipython3",
   "version": "3.13.5"
  }
 },
 "nbformat": 4,
 "nbformat_minor": 4
}
